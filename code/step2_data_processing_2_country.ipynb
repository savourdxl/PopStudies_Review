{
 "cells": [
  {
   "cell_type": "code",
   "execution_count": null,
   "metadata": {},
   "outputs": [],
   "source": [
    "import os\n",
    "import pandas as pd\n",
    "import numpy as np\n",
    "import re\n",
    "\n",
    "import gender_guesser.detector as gender\n",
    "\n",
    "from geotext import GeoText\n",
    "import pycountry\n",
    "#import geograpy\n",
    "\n",
    "path = os.path.abspath(os.path.dirname(os.getcwd())) + '\\\\data'"
   ]
  },
  {
   "cell_type": "code",
   "execution_count": null,
   "metadata": {},
   "outputs": [],
   "source": [
    "info_article = pd.read_csv(path+'\\\\info\\\\info_article_o_3.csv')\n",
    "info_issue = pd.read_csv(path+'\\\\info\\\\info_issue_o_3.csv')"
   ]
  },
  {
   "cell_type": "code",
   "execution_count": null,
   "metadata": {},
   "outputs": [],
   "source": []
  },
  {
   "cell_type": "code",
   "execution_count": null,
   "metadata": {},
   "outputs": [],
   "source": [
    "i_article = 12\n",
    "author_info = eval(info_article.iloc[i_article]['author_info'])\n",
    "i_author_info = author_info[0]\n",
    "institution = i_author_info[1].lstrip(' ')\n",
    "\n",
    "institution = institution.replace('University','')\n",
    "institution = institution.replace('Institute','')\n",
    "institution = institution.replace('School','')\n",
    "\n",
    "institution = institution.replace('of','')\n",
    "institution = institution.replace('for','')\n",
    "\n",
    "institution = institution.replace('UK','United Kingdom')\n",
    "institution = institution.replace('Essex','London')\n",
    "\n",
    "\n",
    "print(institution)\n",
    "places = GeoText('Geneva')\n",
    "country = places.country_mentions\n",
    "list(country)"
   ]
  },
  {
   "cell_type": "code",
   "execution_count": null,
   "metadata": {},
   "outputs": [],
   "source": [
    "def find_country(i_article):\n",
    "    \n",
    "    author_info = eval(info_article.iloc[i_article]['author_info'])\n",
    "    \n",
    "    if author_info == []:\n",
    "        return []\n",
    "    \n",
    "    for i_author_info in author_info:\n",
    "        \n",
    "        institution = i_author_info[1]\n",
    "        \n",
    "        if institution == '':\n",
    "            country = ''\n",
    "            continue\n",
    "        \n",
    "        institution = i_author_info[1].lstrip(' ')\n",
    "        \n",
    "        institution = institution.replace('University','')\n",
    "        institution = institution.replace('Institute','')\n",
    "        institution = institution.replace('School','')\n",
    "        institution = institution.replace('Department','')\n",
    "        institution = institution.replace('Dept','')\n",
    "        \n",
    "        institution = institution.replace(' of ','')\n",
    "        institution = institution.replace(' for ',' ')\n",
    "        \n",
    "        institution = institution.replace('UK','United Kingdom')\n",
    "        institution = institution.replace('Essex','United Kingdom')\n",
    "        institution = institution.replace('St Andrews','United Kingdom')\n",
    "        institution = institution.replace('Oxford','United Kingdom')\n",
    "        \n",
    "        \n",
    "        institution = institution.replace('Kingston','')\n",
    "        institution = institution.replace('Geneva','Switzerland')\n",
    "        \n",
    "        places = GeoText(institution)\n",
    "        country = list(places.country_mentions)\n",
    "        \n",
    "        # country = [pycountry.countries.get(alpha_2=i_country) for i_country in country]\n",
    "        # country = [i_country.name for i_country in country]\n",
    "        # country = ','.join(country)\n",
    "        \n",
    "        if len(country) != 1:\n",
    "            print('Article No.' + str(i_article))\n",
    "            print(institution)\n",
    "            print(country)\n",
    "        "
   ]
  },
  {
   "cell_type": "code",
   "execution_count": null,
   "metadata": {},
   "outputs": [],
   "source": [
    "for i_article in range(info_article.shape[0]):\n",
    "    \n",
    "    find_country(i_article)"
   ]
  }
 ],
 "metadata": {
  "kernelspec": {
   "display_name": "Python 3",
   "language": "python",
   "name": "python3"
  },
  "language_info": {
   "codemirror_mode": {
    "name": "ipython",
    "version": 3
   },
   "file_extension": ".py",
   "mimetype": "text/x-python",
   "name": "python",
   "nbconvert_exporter": "python",
   "pygments_lexer": "ipython3",
   "version": "3.8.2"
  }
 },
 "nbformat": 4,
 "nbformat_minor": 4
}
