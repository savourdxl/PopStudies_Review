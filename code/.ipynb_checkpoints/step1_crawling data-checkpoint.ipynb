{
 "cells": [
  {
   "cell_type": "code",
   "execution_count": 56,
   "metadata": {},
   "outputs": [],
   "source": [
    "import os\n",
    "import pandas as pd\n",
    "\n",
    "import requests\n",
    "from bs4 import BeautifulSoup\n",
    "\n",
    "import re\n",
    "\n",
    "path = os.path.abspath(os.path.dirname(os.getcwd())) + '\\\\data'"
   ]
  },
  {
   "cell_type": "code",
   "execution_count": 64,
   "metadata": {},
   "outputs": [],
   "source": [
    "issue_df = pd.read_csv(path+'\\\\website\\\\issue.csv')\n",
    "\n",
    "def find_website_article(i):\n",
    "    \n",
    "    number_volume = issue_df[\"number_volume\"].iloc[i]\n",
    "    number_issue = issue_df[\"number_issue\"].iloc[i]\n",
    "    \n",
    "    url_issue = issue_df[\"website_issue\"].iloc[i]\n",
    "    response = requests.get(url=url_issue)\n",
    "    \n",
    "    web_content = response.content\n",
    "    bs_obj=BeautifulSoup(web_content,'lxml').body.div.div\n",
    "    \n",
    "    article = bs_obj.find_all(name='div', attrs={\"class\":\"articleEntry\"})\n",
    "    \n",
    "    article_df = pd.DataFrame(columns=[\"number_volume\",\"number_issue\",\"number_article\",\"type\",\"link\"])\n",
    "    \n",
    "    for i in range(len(article)):\n",
    "        try:\n",
    "            type = article[i].find(name='div', attrs={\"class\":\"article-type\"}).string\n",
    "        except:\n",
    "            continue\n",
    "            \n",
    "        link_str = str(article[i].find(name='div', attrs={\"class\":\"art_title linkable\"}))\n",
    "        link = re.findall(r\"href=\\\"(.+?)\\\">\", link_str)[0]\n",
    "        link = 'https://www.tandfonline.com' + link\n",
    "        \n",
    "        article_df.loc[i] = [number_volume, number_issue, i+1, type, link]\n",
    "    \n",
    "    return article_df"
   ]
  },
  {
   "cell_type": "code",
   "execution_count": 68,
   "metadata": {},
   "outputs": [],
   "source": [
    "num_issue = issue_df.shape[0]\n",
    "\n",
    "article_df_all = pd.DataFrame(columns=[\"number_volume\",\"number_issue\",\"number_article\",\"type\",\"link\"])\n",
    "\n",
    "for i_issue in range(num_issue):\n",
    "    \n",
    "    article_df = find_website_article(i_issue)\n",
    "    \n",
    "    article_df_all = pd.concat([article_df_all, article_df], axis=0, ignore_index=True)"
   ]
  },
  {
   "cell_type": "code",
   "execution_count": 70,
   "metadata": {},
   "outputs": [],
   "source": [
    "article_df_all.to_csv(path+'\\\\website_article\\\\article.csv',index=False,sep=',')"
   ]
  },
  {
   "cell_type": "code",
   "execution_count": null,
   "metadata": {},
   "outputs": [],
   "source": []
  }
 ],
 "metadata": {
  "kernelspec": {
   "display_name": "Python 3",
   "language": "python",
   "name": "python3"
  },
  "language_info": {
   "codemirror_mode": {
    "name": "ipython",
    "version": 3
   },
   "file_extension": ".py",
   "mimetype": "text/x-python",
   "name": "python",
   "nbconvert_exporter": "python",
   "pygments_lexer": "ipython3",
   "version": "3.8.2"
  }
 },
 "nbformat": 4,
 "nbformat_minor": 4
}
