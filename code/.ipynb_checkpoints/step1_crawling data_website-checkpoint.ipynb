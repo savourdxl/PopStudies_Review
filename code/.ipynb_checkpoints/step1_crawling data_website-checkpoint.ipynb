{
 "cells": [
  {
   "cell_type": "code",
   "execution_count": 3,
   "metadata": {
    "pycharm": {
     "is_executing": false
    }
   },
   "outputs": [],
   "source": [
    "import requests\n",
    "from bs4 import BeautifulSoup\n",
    "import pandas as pd\n",
    "import os"
   ]
  },
  {
   "cell_type": "code",
   "execution_count": 2,
   "metadata": {
    "pycharm": {
     "is_executing": false
    }
   },
   "outputs": [
    {
     "name": "stdout",
     "output_type": "stream",
     "text": [
      "<Response [200]>\n"
     ]
    }
   ],
   "source": [
    "# part 1 : crawling the website for each volume\n",
    "\n",
    "my_url = 'https://www.tandfonline.com/loi/reus20'\n",
    "response = requests.get(url=my_url)\n",
    "\n",
    "# check if the request works or not, 200 if all goes well\n",
    "print(response)\n",
    "\n",
    "web_content = response.content"
   ]
  },
  {
   "cell_type": "code",
   "execution_count": 3,
   "metadata": {},
   "outputs": [
    {
     "data": {
      "text/plain": [
       "'List of issues European Societies'"
      ]
     },
     "execution_count": 3,
     "metadata": {},
     "output_type": "execute_result"
    }
   ],
   "source": [
    "bs_obj=BeautifulSoup(web_content,'lxml')\n",
    "# print(bs_obj)\n",
    "# bs_obj.title\n",
    "bs_obj.title.string"
   ]
  },
  {
   "cell_type": "code",
   "execution_count": 81,
   "metadata": {},
   "outputs": [
    {
     "data": {
      "text/html": [
       "<div>\n",
       "<style scoped>\n",
       "    .dataframe tbody tr th:only-of-type {\n",
       "        vertical-align: middle;\n",
       "    }\n",
       "\n",
       "    .dataframe tbody tr th {\n",
       "        vertical-align: top;\n",
       "    }\n",
       "\n",
       "    .dataframe thead th {\n",
       "        text-align: right;\n",
       "    }\n",
       "</style>\n",
       "<table border=\"1\" class=\"dataframe\">\n",
       "  <thead>\n",
       "    <tr style=\"text-align: right;\">\n",
       "      <th></th>\n",
       "      <th>number_volume</th>\n",
       "      <th>year</th>\n",
       "      <th>website_volume</th>\n",
       "    </tr>\n",
       "  </thead>\n",
       "  <tbody>\n",
       "    <tr>\n",
       "      <th>0</th>\n",
       "      <td>1</td>\n",
       "      <td>1999</td>\n",
       "      <td>https://www.tandfonline.com/loi/reus20?treeId=...</td>\n",
       "    </tr>\n",
       "    <tr>\n",
       "      <th>1</th>\n",
       "      <td>2</td>\n",
       "      <td>2000</td>\n",
       "      <td>https://www.tandfonline.com/loi/reus20?treeId=...</td>\n",
       "    </tr>\n",
       "    <tr>\n",
       "      <th>2</th>\n",
       "      <td>3</td>\n",
       "      <td>2001</td>\n",
       "      <td>https://www.tandfonline.com/loi/reus20?treeId=...</td>\n",
       "    </tr>\n",
       "    <tr>\n",
       "      <th>3</th>\n",
       "      <td>4</td>\n",
       "      <td>2002</td>\n",
       "      <td>https://www.tandfonline.com/loi/reus20?treeId=...</td>\n",
       "    </tr>\n",
       "    <tr>\n",
       "      <th>4</th>\n",
       "      <td>5</td>\n",
       "      <td>2003</td>\n",
       "      <td>https://www.tandfonline.com/loi/reus20?treeId=...</td>\n",
       "    </tr>\n",
       "  </tbody>\n",
       "</table>\n",
       "</div>"
      ],
      "text/plain": [
       "  number_volume  year                                     website_volume\n",
       "0             1  1999  https://www.tandfonline.com/loi/reus20?treeId=...\n",
       "1             2  2000  https://www.tandfonline.com/loi/reus20?treeId=...\n",
       "2             3  2001  https://www.tandfonline.com/loi/reus20?treeId=...\n",
       "3             4  2002  https://www.tandfonline.com/loi/reus20?treeId=...\n",
       "4             5  2003  https://www.tandfonline.com/loi/reus20?treeId=..."
      ]
     },
     "execution_count": 81,
     "metadata": {},
     "output_type": "execute_result"
    }
   ],
   "source": [
    "div_obj = bs_obj.body.div.div\n",
    "\n",
    "# for i in div_obj.children:\n",
    "#     print(i)\n",
    "\n",
    "# for i in div_obj.contents:\n",
    "#     print(i)\n",
    "\n",
    "# div_obj.children\n",
    "\n",
    "volume = div_obj.find_all(name='li', attrs={\"class\":\"vol_li\"})\n",
    "# volume\n",
    "# print(type(div_obj))\n",
    "# print(type(volume))\n",
    "\n",
    "volume_df = pd.DataFrame(columns=[\"number_volume\",\"year\",\"website_volume\"])\n",
    "\n",
    "for i in range(len(volume)):\n",
    "    \n",
    "    date = volume[i].find(name='h3').string.split('\\n')[1].split(' ') \n",
    "    number = date[1]\n",
    "    year = date[2]\n",
    "    \n",
    "    website = str(volume[i].find(name='a')).split('\"')[3]\n",
    "    website = 'https://www.tandfonline.com' + website\n",
    "    \n",
    "    volume_df.loc[i] = [number, year, website]\n",
    "\n",
    "volume_df = volume_df.iloc[::-1]\n",
    "volume_df.reset_index(drop=True,inplace=True)\n",
    "\n",
    "# print(os.getcwd())\n",
    "path = os.path.abspath(os.path.dirname(os.getcwd())) + '\\\\data'\n",
    "\n",
    "volume_df.to_csv(path+'\\\\website\\\\volume.csv',index=False,sep=',')\n",
    "\n",
    "volume_df.head()"
   ]
  },
  {
   "cell_type": "code",
   "execution_count": 179,
   "metadata": {},
   "outputs": [],
   "source": [
    "# part 2 : crawling the website for each volume\n",
    "\n",
    "volume_df = pd.read_csv(path+'\\\\website\\\\volume.csv')\n",
    "\n",
    "def find_website_issue(i):\n",
    "    \n",
    "    number_volume = volume_df['number_volume'].loc[i]\n",
    "    year = volume_df['year'].loc[i]\n",
    "    url_volume = volume_df['website_volume'].loc[i]\n",
    "    \n",
    "    response = requests.get(url=url_volume)\n",
    "    # print(response)\n",
    "    web_content = response.content\n",
    "    \n",
    "    bs_obj=BeautifulSoup(web_content,'lxml')\n",
    "    # print(bs_obj.title.string)\n",
    "    \n",
    "    div_obj = bs_obj.body.div.div\n",
    "    issue = div_obj.find_all(name='a', attrs={\"class\":\"issue-link\"})\n",
    "    \n",
    "    issue_df = pd.DataFrame(columns=[\"number_volume\", \"number_issue\", \"year\",\n",
    "                                     \"page_start\",\"page_end\",\"website_issue\"])\n",
    "    \n",
    "    for i in range(len(issue)):\n",
    "        \n",
    "        number_issue = issue[i].find(name=\"div\").string.split(' ')[1]\n",
    "        \n",
    "        page = issue[i].find(name='span', attrs={\"class\":\"loiIssuePages\"}).string.split('\\n')[1].split(' ')[-1].split('-')\n",
    "        page_start = page[0]\n",
    "        page_end = page[1]\n",
    "        \n",
    "        website = str(issue[i]).split('>')[0].split('\"')[-2]\n",
    "        website = 'https://www.tandfonline.com' + website\n",
    "        \n",
    "        issue_df.loc[i] = [number_volume, number_issue, year, page_start, page_end, website]\n",
    "        \n",
    "    issue_df = issue_df.iloc[::-1]\n",
    "    issue_df.reset_index(drop=True,inplace=True)\n",
    "    \n",
    "    return issue_df\n"
   ]
  },
  {
   "cell_type": "code",
   "execution_count": 207,
   "metadata": {},
   "outputs": [],
   "source": [
    "path = os.path.abspath(os.path.dirname(os.getcwd())) + '\\\\data'\n",
    "\n",
    "num_vol = volume_df.shape[0]\n",
    "for i_vol in range(num_vol):\n",
    "\n",
    "    issue_df = find_website_issue(i_vol)\n",
    "    \n",
    "    issue_df.to_csv(path+'\\\\website\\\\volume_'+str(i_vol)+'.csv',index=False,sep=',')"
   ]
  },
  {
   "cell_type": "code",
   "execution_count": 4,
   "metadata": {},
   "outputs": [],
   "source": [
    "# part 3 : put all the webistes into one form\n",
    "\n",
    "path = os.path.abspath(os.path.dirname(os.getcwd())) + '\\\\data'\n",
    "\n",
    "volume_df = pd.read_csv(path+'\\\\website\\\\volume.csv')\n",
    "num_vol = volume_df.shape[0]\n",
    "\n",
    "issue_df_all = pd.DataFrame(columns=[\"number_volume\", \"number_issue\", \"year\",\n",
    "                                     \"page_start\",\"page_end\",\"website_issue\"])\n",
    "\n",
    "for i_vol in range(num_vol):\n",
    "\n",
    "    issue_df = pd.read_csv(path+'\\\\website\\\\volume_'+str(i_vol)+'.csv')\n",
    "    \n",
    "    issue_df_all = pd.concat([issue_df_all, issue_df], axis=0, ignore_index=True)"
   ]
  },
  {
   "cell_type": "code",
   "execution_count": 6,
   "metadata": {},
   "outputs": [],
   "source": [
    "issue_df_all.to_csv(path+'\\\\website\\\\issue.csv',index=False,sep=',')"
   ]
  }
 ],
 "metadata": {
  "kernelspec": {
   "display_name": "Python 3",
   "language": "python",
   "name": "python3"
  },
  "language_info": {
   "codemirror_mode": {
    "name": "ipython",
    "version": 3
   },
   "file_extension": ".py",
   "mimetype": "text/x-python",
   "name": "python",
   "nbconvert_exporter": "python",
   "pygments_lexer": "ipython3",
   "version": "3.8.2"
  },
  "pycharm": {
   "stem_cell": {
    "cell_type": "raw",
    "metadata": {
     "collapsed": false
    },
    "source": []
   }
  }
 },
 "nbformat": 4,
 "nbformat_minor": 4
}
