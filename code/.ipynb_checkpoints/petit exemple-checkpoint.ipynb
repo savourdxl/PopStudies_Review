{
 "cells": [
  {
   "cell_type": "code",
   "execution_count": 1,
   "metadata": {},
   "outputs": [],
   "source": [
    "from selenium import webdriver\n",
    "import time\n",
    "\n",
    "import os\n",
    "import pandas as pd\n",
    "import numpy as np\n",
    "\n",
    "\n",
    "import requests\n",
    "from bs4 import BeautifulSoup #解析函数\n",
    "import re"
   ]
  },
  {
   "cell_type": "code",
   "execution_count": 2,
   "metadata": {},
   "outputs": [],
   "source": [
    "path = os.path.abspath(os.path.dirname(os.getcwd())) + '\\\\data'\n",
    "url_df = pd.read_csv(path+'\\\\info\\\\my_url.csv', header=None)"
   ]
  },
  {
   "cell_type": "code",
   "execution_count": 19,
   "metadata": {},
   "outputs": [
    {
     "data": {
      "text/html": [
       "<div>\n",
       "<style scoped>\n",
       "    .dataframe tbody tr th:only-of-type {\n",
       "        vertical-align: middle;\n",
       "    }\n",
       "\n",
       "    .dataframe tbody tr th {\n",
       "        vertical-align: top;\n",
       "    }\n",
       "\n",
       "    .dataframe thead th {\n",
       "        text-align: right;\n",
       "    }\n",
       "</style>\n",
       "<table border=\"1\" class=\"dataframe\">\n",
       "  <thead>\n",
       "    <tr style=\"text-align: right;\">\n",
       "      <th></th>\n",
       "      <th>name</th>\n",
       "      <th>url</th>\n",
       "    </tr>\n",
       "  </thead>\n",
       "  <tbody>\n",
       "    <tr>\n",
       "      <th>0</th>\n",
       "      <td>url1</td>\n",
       "      <td>https://www.lemonde.fr</td>\n",
       "    </tr>\n",
       "    <tr>\n",
       "      <th>1</th>\n",
       "      <td>url2</td>\n",
       "      <td>https://www.liberation.fr</td>\n",
       "    </tr>\n",
       "    <tr>\n",
       "      <th>2</th>\n",
       "      <td>url3</td>\n",
       "      <td>https://www.lefigaro.fr</td>\n",
       "    </tr>\n",
       "    <tr>\n",
       "      <th>3</th>\n",
       "      <td>url4</td>\n",
       "      <td>https://www.latribune.fr</td>\n",
       "    </tr>\n",
       "    <tr>\n",
       "      <th>4</th>\n",
       "      <td>url5</td>\n",
       "      <td>https://www.humanite.fr</td>\n",
       "    </tr>\n",
       "  </tbody>\n",
       "</table>\n",
       "</div>"
      ],
      "text/plain": [
       "   name                        url\n",
       "0  url1     https://www.lemonde.fr\n",
       "1  url2  https://www.liberation.fr\n",
       "2  url3    https://www.lefigaro.fr\n",
       "3  url4   https://www.latribune.fr\n",
       "4  url5    https://www.humanite.fr"
      ]
     },
     "execution_count": 19,
     "metadata": {},
     "output_type": "execute_result"
    }
   ],
   "source": [
    "url_df = url_df.rename(columns={0: 'name',1:'url'})\n",
    "# url_df\n",
    "\n",
    "#for i_url in range(0,url_df.shape[0]):\n",
    "    \n",
    "#    print(url_df[\"url\"].iloc[i_url])\n",
    "url_df.head()"
   ]
  },
  {
   "cell_type": "code",
   "execution_count": 26,
   "metadata": {},
   "outputs": [
    {
     "data": {
      "text/html": [
       "<div>\n",
       "<style scoped>\n",
       "    .dataframe tbody tr th:only-of-type {\n",
       "        vertical-align: middle;\n",
       "    }\n",
       "\n",
       "    .dataframe tbody tr th {\n",
       "        vertical-align: top;\n",
       "    }\n",
       "\n",
       "    .dataframe thead th {\n",
       "        text-align: right;\n",
       "    }\n",
       "</style>\n",
       "<table border=\"1\" class=\"dataframe\">\n",
       "  <thead>\n",
       "    <tr style=\"text-align: right;\">\n",
       "      <th></th>\n",
       "      <th>name</th>\n",
       "      <th>url</th>\n",
       "    </tr>\n",
       "  </thead>\n",
       "  <tbody>\n",
       "    <tr>\n",
       "      <th>0</th>\n",
       "      <td>url1</td>\n",
       "      <td>https://www.lemonde.fr</td>\n",
       "    </tr>\n",
       "    <tr>\n",
       "      <th>1</th>\n",
       "      <td>url2</td>\n",
       "      <td>https://www.liberation.fr</td>\n",
       "    </tr>\n",
       "    <tr>\n",
       "      <th>2</th>\n",
       "      <td>url3</td>\n",
       "      <td>https://www.lefigaro.fr</td>\n",
       "    </tr>\n",
       "    <tr>\n",
       "      <th>3</th>\n",
       "      <td>url4</td>\n",
       "      <td>https://www.latribune.fr</td>\n",
       "    </tr>\n",
       "    <tr>\n",
       "      <th>4</th>\n",
       "      <td>url5</td>\n",
       "      <td>https://www.humanite.fr</td>\n",
       "    </tr>\n",
       "  </tbody>\n",
       "</table>\n",
       "</div>"
      ],
      "text/plain": [
       "   name                        url\n",
       "0  url1     https://www.lemonde.fr\n",
       "1  url2  https://www.liberation.fr\n",
       "2  url3    https://www.lefigaro.fr\n",
       "3  url4   https://www.latribune.fr\n",
       "4  url5    https://www.humanite.fr"
      ]
     },
     "execution_count": 26,
     "metadata": {},
     "output_type": "execute_result"
    }
   ],
   "source": [
    "url_df['url'] = url_df['url'].apply(lambda x: x.rstrip('?').rstrip(' '))\n",
    "url_df.head()"
   ]
  },
  {
   "cell_type": "code",
   "execution_count": 31,
   "metadata": {},
   "outputs": [],
   "source": [
    "def process_url(i_url):\n",
    "    \n",
    "    my_url= url_df[\"url\"].iloc[i_url]\n",
    "    \n",
    "    \n",
    "    driver = webdriver.Chrome()\n",
    "    driver.get(my_url)\n",
    "    \n",
    "    web_content = driver.page_source\n",
    "    \n",
    "    # 这里还需要添加代码，目的： 获取网页源码\n",
    "    \n",
    "    time.sleep(0.5)\n",
    "    driver.quit()"
   ]
  },
  {
   "cell_type": "code",
   "execution_count": 33,
   "metadata": {},
   "outputs": [],
   "source": [
    "for i_url in range(0,url_df.shape[0]):\n",
    "    \n",
    "    process_url(i_url)"
   ]
  },
  {
   "cell_type": "code",
   "execution_count": 3,
   "metadata": {},
   "outputs": [],
   "source": [
    "# example\n",
    "\n",
    "my_url = \"https://www.lemonde.fr/\"\n",
    "\n",
    "response = requests.get(url=my_url)\n",
    "\n",
    "# print(response)\n",
    "\n",
    "web_content = response.content"
   ]
  },
  {
   "cell_type": "code",
   "execution_count": 4,
   "metadata": {},
   "outputs": [
    {
     "data": {
      "text/plain": [
       "'Le Monde.fr - Actualités et Infos en France et dans le monde'"
      ]
     },
     "execution_count": 4,
     "metadata": {},
     "output_type": "execute_result"
    }
   ],
   "source": [
    "bs_obj=BeautifulSoup(web_content,'lxml')\n",
    "\n",
    "bs_obj.title.string"
   ]
  },
  {
   "cell_type": "code",
   "execution_count": 5,
   "metadata": {},
   "outputs": [],
   "source": [
    "bs_obj = bs_obj.body.main"
   ]
  },
  {
   "cell_type": "code",
   "execution_count": 6,
   "metadata": {},
   "outputs": [],
   "source": [
    "my_str = bs_obj.find_all(name='h1', attrs={\"class\":\"article__title\"})[0].span.string\n",
    "# my_str.split(' ')\n",
    "# my_str = ' asdlfjkasdhlkjfh '\n",
    "# my_str.strip(' ')\n",
    "# my_str.lstrip(' ')\n",
    "# my_str.rstrip(' ')\n",
    "# my_str\n",
    "# my_str.replace('\\xa0', '')"
   ]
  },
  {
   "cell_type": "code",
   "execution_count": 14,
   "metadata": {},
   "outputs": [],
   "source": [
    "my_list = bs_obj.find_all(name='p', attrs={\"class\":\"article__title\"})"
   ]
  },
  {
   "cell_type": "code",
   "execution_count": 19,
   "metadata": {},
   "outputs": [],
   "source": [
    "info_title = pd.DataFrame(columns=['title_name'])\n",
    "\n",
    "for i_list in my_list:\n",
    "\n",
    "    i_list_string= i_list.string\n",
    "    \n",
    "    if i_list_string == None:\n",
    "        continue\n",
    "    \n",
    "    info_title_add = pd.DataFrame([[i_list_string]], columns=['title_name'])\n",
    "    info_title = pd.concat([info_title,info_title_add])\n",
    "    \n",
    "    info_title = info_title.reset_index(drop = True)"
   ]
  },
  {
   "cell_type": "code",
   "execution_count": 20,
   "metadata": {},
   "outputs": [
    {
     "data": {
      "text/html": [
       "<div>\n",
       "<style scoped>\n",
       "    .dataframe tbody tr th:only-of-type {\n",
       "        vertical-align: middle;\n",
       "    }\n",
       "\n",
       "    .dataframe tbody tr th {\n",
       "        vertical-align: top;\n",
       "    }\n",
       "\n",
       "    .dataframe thead th {\n",
       "        text-align: right;\n",
       "    }\n",
       "</style>\n",
       "<table border=\"1\" class=\"dataframe\">\n",
       "  <thead>\n",
       "    <tr style=\"text-align: right;\">\n",
       "      <th></th>\n",
       "      <th>title_name</th>\n",
       "    </tr>\n",
       "  </thead>\n",
       "  <tbody>\n",
       "    <tr>\n",
       "      <th>0</th>\n",
       "      <td>Novak Djokovic renverse Stefanos Tsitsipas et ...</td>\n",
       "    </tr>\n",
       "    <tr>\n",
       "      <th>1</th>\n",
       "      <td>Le général François Lecointre, chef d’état-maj...</td>\n",
       "    </tr>\n",
       "    <tr>\n",
       "      <th>2</th>\n",
       "      <td>Le Brexit et le différend entre le Royaume-Uni...</td>\n",
       "    </tr>\n",
       "    <tr>\n",
       "      <th>3</th>\n",
       "      <td>Publicité : CNews et « Valeurs actuelles » dép...</td>\n",
       "    </tr>\n",
       "    <tr>\n",
       "      <th>4</th>\n",
       "      <td>« Votre appréciation va m’empêcher d’entrer en...</td>\n",
       "    </tr>\n",
       "    <tr>\n",
       "      <th>...</th>\n",
       "      <td>...</td>\n",
       "    </tr>\n",
       "    <tr>\n",
       "      <th>161</th>\n",
       "      <td>« Le Monde », une indépendance éditoriale tota...</td>\n",
       "    </tr>\n",
       "    <tr>\n",
       "      <th>162</th>\n",
       "      <td>L’histoire du « Monde » au fil des années</td>\n",
       "    </tr>\n",
       "    <tr>\n",
       "      <th>163</th>\n",
       "      <td>La charte d’éthique et de déontologie du group...</td>\n",
       "    </tr>\n",
       "    <tr>\n",
       "      <th>164</th>\n",
       "      <td>« Paroles de lecteurs » – Plaidoyer d’un ensei...</td>\n",
       "    </tr>\n",
       "    <tr>\n",
       "      <th>165</th>\n",
       "      <td>« Paroles de lecteurs » – Sortons de la dictat...</td>\n",
       "    </tr>\n",
       "  </tbody>\n",
       "</table>\n",
       "<p>166 rows × 1 columns</p>\n",
       "</div>"
      ],
      "text/plain": [
       "                                            title_name\n",
       "0    Novak Djokovic renverse Stefanos Tsitsipas et ...\n",
       "1    Le général François Lecointre, chef d’état-maj...\n",
       "2    Le Brexit et le différend entre le Royaume-Uni...\n",
       "3    Publicité : CNews et « Valeurs actuelles » dép...\n",
       "4    « Votre appréciation va m’empêcher d’entrer en...\n",
       "..                                                 ...\n",
       "161  « Le Monde », une indépendance éditoriale tota...\n",
       "162        L’histoire du « Monde » au fil des années  \n",
       "163  La charte d’éthique et de déontologie du group...\n",
       "164  « Paroles de lecteurs » – Plaidoyer d’un ensei...\n",
       "165  « Paroles de lecteurs » – Sortons de la dictat...\n",
       "\n",
       "[166 rows x 1 columns]"
      ]
     },
     "execution_count": 20,
     "metadata": {},
     "output_type": "execute_result"
    }
   ],
   "source": [
    "info_title"
   ]
  },
  {
   "cell_type": "code",
   "execution_count": 21,
   "metadata": {},
   "outputs": [],
   "source": [
    "info_title.to_csv(path+'\\\\info\\\\info_title.csv',index=False,sep=',')"
   ]
  },
  {
   "cell_type": "code",
   "execution_count": null,
   "metadata": {},
   "outputs": [],
   "source": []
  }
 ],
 "metadata": {
  "kernelspec": {
   "display_name": "Python 3",
   "language": "python",
   "name": "python3"
  },
  "language_info": {
   "codemirror_mode": {
    "name": "ipython",
    "version": 3
   },
   "file_extension": ".py",
   "mimetype": "text/x-python",
   "name": "python",
   "nbconvert_exporter": "python",
   "pygments_lexer": "ipython3",
   "version": "3.8.2"
  }
 },
 "nbformat": 4,
 "nbformat_minor": 4
}
