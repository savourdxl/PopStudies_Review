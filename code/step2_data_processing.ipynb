{
 "cells": [
  {
   "cell_type": "code",
   "execution_count": 1,
   "metadata": {},
   "outputs": [],
   "source": [
    "import os\n",
    "import pandas as pd\n",
    "import numpy as np\n",
    "import re\n",
    "import gender_guesser.detector as gender\n",
    "# from gender_detector import GenderDetector\n",
    "\n",
    "path = os.path.abspath(os.path.dirname(os.getcwd())) + '\\\\data'\n",
    "\n",
    "info_article = pd.read_csv(path+'\\\\info\\\\info_article_o.csv')\n",
    "info_issue = pd.read_csv(path+'\\\\info\\\\info_issue_o.csv')"
   ]
  },
  {
   "cell_type": "code",
   "execution_count": 2,
   "metadata": {},
   "outputs": [],
   "source": [
    "# part 1.1: pages (articles)\n",
    "\n",
    "info_article['page_start'] = info_article['page_start'].apply(lambda x:str(x).lstrip('S'))\n",
    "info_article['page_end'] = info_article['page_end'].apply(lambda x:str(x).lstrip('S'))\n",
    "info_issue['page_start'] = info_issue['page_start'].apply(lambda x:str(x).lstrip('S'))\n",
    "info_issue['page_start'] = info_issue['page_start'].apply(lambda x:str(x).lstrip('S'))\n",
    "\n",
    "for i_article in range(info_article.shape[0]):\n",
    "    \n",
    "    page_start = info_article.iloc[i_article]['page_start']\n",
    "    page_end = info_article.iloc[i_article]['page_end']\n",
    "    \n",
    "    if(page_start == page_end):\n",
    "        info_article.loc[i_article, 'page_number'] = str(1)\n",
    "    else:\n",
    "        info_article.loc[i_article, 'page_number'] = str(int(page_end) - int(page_start) +1) \n",
    "        "
   ]
  },
  {
   "cell_type": "code",
   "execution_count": 3,
   "metadata": {},
   "outputs": [
    {
     "data": {
      "text/html": [
       "<div>\n",
       "<style scoped>\n",
       "    .dataframe tbody tr th:only-of-type {\n",
       "        vertical-align: middle;\n",
       "    }\n",
       "\n",
       "    .dataframe tbody tr th {\n",
       "        vertical-align: top;\n",
       "    }\n",
       "\n",
       "    .dataframe thead th {\n",
       "        text-align: right;\n",
       "    }\n",
       "</style>\n",
       "<table border=\"1\" class=\"dataframe\">\n",
       "  <thead>\n",
       "    <tr style=\"text-align: right;\">\n",
       "      <th></th>\n",
       "      <th>number_volume</th>\n",
       "      <th>number_issue</th>\n",
       "      <th>number_article</th>\n",
       "      <th>type_1</th>\n",
       "      <th>type_2</th>\n",
       "      <th>name_book</th>\n",
       "      <th>keyword</th>\n",
       "      <th>author_number</th>\n",
       "      <th>author_info</th>\n",
       "      <th>page_start</th>\n",
       "      <th>page_end</th>\n",
       "      <th>page_number</th>\n",
       "      <th>date_receive</th>\n",
       "      <th>date_accept</th>\n",
       "      <th>date_online</th>\n",
       "      <th>views</th>\n",
       "      <th>Crossref</th>\n",
       "      <th>Web_of_Science</th>\n",
       "    </tr>\n",
       "  </thead>\n",
       "  <tbody>\n",
       "    <tr>\n",
       "      <th>0</th>\n",
       "      <td>1</td>\n",
       "      <td>1</td>\n",
       "      <td>1</td>\n",
       "      <td>introduction</td>\n",
       "      <td>Introduction</td>\n",
       "      <td>Introduction</td>\n",
       "      <td>[]</td>\n",
       "      <td>1</td>\n",
       "      <td>[('Thomas P. Boje', ' Department of Sociology,...</td>\n",
       "      <td>1</td>\n",
       "      <td>7</td>\n",
       "      <td>7</td>\n",
       "      <td>NaN</td>\n",
       "      <td>NaN</td>\n",
       "      <td>21 Oct 2013</td>\n",
       "      <td>26</td>\n",
       "      <td>1</td>\n",
       "      <td>0</td>\n",
       "    </tr>\n",
       "    <tr>\n",
       "      <th>1</th>\n",
       "      <td>1</td>\n",
       "      <td>1</td>\n",
       "      <td>2</td>\n",
       "      <td>Article</td>\n",
       "      <td>Original Articles</td>\n",
       "      <td>National models for making and legitimating el...</td>\n",
       "      <td>['business elites', 'corporate governance', 'l...</td>\n",
       "      <td>2</td>\n",
       "      <td>[('Michel Bauer', ' Observatoire des Dirigeant...</td>\n",
       "      <td>9</td>\n",
       "      <td>31</td>\n",
       "      <td>23</td>\n",
       "      <td>NaN</td>\n",
       "      <td>NaN</td>\n",
       "      <td>21 Oct 2013</td>\n",
       "      <td>78</td>\n",
       "      <td>14</td>\n",
       "      <td>0</td>\n",
       "    </tr>\n",
       "    <tr>\n",
       "      <th>2</th>\n",
       "      <td>1</td>\n",
       "      <td>1</td>\n",
       "      <td>3</td>\n",
       "      <td>Article</td>\n",
       "      <td>Original Articles</td>\n",
       "      <td>Models of the family, women’s role and social ...</td>\n",
       "      <td>['social policy', 'family', 'women’s roles', '...</td>\n",
       "      <td>1</td>\n",
       "      <td>[('Catherine Hakim', ' London School of Econom...</td>\n",
       "      <td>33</td>\n",
       "      <td>58</td>\n",
       "      <td>26</td>\n",
       "      <td>NaN</td>\n",
       "      <td>NaN</td>\n",
       "      <td>21 Oct 2013</td>\n",
       "      <td>441</td>\n",
       "      <td>15</td>\n",
       "      <td>0</td>\n",
       "    </tr>\n",
       "    <tr>\n",
       "      <th>3</th>\n",
       "      <td>1</td>\n",
       "      <td>1</td>\n",
       "      <td>4</td>\n",
       "      <td>Article</td>\n",
       "      <td>Original Articles</td>\n",
       "      <td>The European Union and equal opportunities pol...</td>\n",
       "      <td>['gender', 'equal opportunities', 'European Un...</td>\n",
       "      <td>1</td>\n",
       "      <td>[('Sylvia Walby', ' University of Leeds', 'htt...</td>\n",
       "      <td>59</td>\n",
       "      <td>80</td>\n",
       "      <td>22</td>\n",
       "      <td>NaN</td>\n",
       "      <td>NaN</td>\n",
       "      <td>21 Oct 2013</td>\n",
       "      <td>142</td>\n",
       "      <td>13</td>\n",
       "      <td>0</td>\n",
       "    </tr>\n",
       "    <tr>\n",
       "      <th>4</th>\n",
       "      <td>1</td>\n",
       "      <td>1</td>\n",
       "      <td>5</td>\n",
       "      <td>Article</td>\n",
       "      <td>Original Articles</td>\n",
       "      <td>Private and public transfers between generatio...</td>\n",
       "      <td>['generations', 'family', 'social policy', 'ag...</td>\n",
       "      <td>1</td>\n",
       "      <td>[('Martin Kohli', ' Free University of Berlin'...</td>\n",
       "      <td>81</td>\n",
       "      <td>104</td>\n",
       "      <td>24</td>\n",
       "      <td>NaN</td>\n",
       "      <td>NaN</td>\n",
       "      <td>21 Oct 2013</td>\n",
       "      <td>371</td>\n",
       "      <td>194</td>\n",
       "      <td>0</td>\n",
       "    </tr>\n",
       "  </tbody>\n",
       "</table>\n",
       "</div>"
      ],
      "text/plain": [
       "   number_volume number_issue  number_article        type_1  \\\n",
       "0              1            1               1  introduction   \n",
       "1              1            1               2       Article   \n",
       "2              1            1               3       Article   \n",
       "3              1            1               4       Article   \n",
       "4              1            1               5       Article   \n",
       "\n",
       "              type_2                                          name_book  \\\n",
       "0       Introduction                                       Introduction   \n",
       "1  Original Articles  National models for making and legitimating el...   \n",
       "2  Original Articles  Models of the family, women’s role and social ...   \n",
       "3  Original Articles  The European Union and equal opportunities pol...   \n",
       "4  Original Articles  Private and public transfers between generatio...   \n",
       "\n",
       "                                             keyword  author_number  \\\n",
       "0                                                 []              1   \n",
       "1  ['business elites', 'corporate governance', 'l...              2   \n",
       "2  ['social policy', 'family', 'women’s roles', '...              1   \n",
       "3  ['gender', 'equal opportunities', 'European Un...              1   \n",
       "4  ['generations', 'family', 'social policy', 'ag...              1   \n",
       "\n",
       "                                         author_info page_start page_end  \\\n",
       "0  [('Thomas P. Boje', ' Department of Sociology,...          1        7   \n",
       "1  [('Michel Bauer', ' Observatoire des Dirigeant...          9       31   \n",
       "2  [('Catherine Hakim', ' London School of Econom...         33       58   \n",
       "3  [('Sylvia Walby', ' University of Leeds', 'htt...         59       80   \n",
       "4  [('Martin Kohli', ' Free University of Berlin'...         81      104   \n",
       "\n",
       "  page_number date_receive date_accept  date_online views  Crossref  \\\n",
       "0           7          NaN         NaN  21 Oct 2013    26         1   \n",
       "1          23          NaN         NaN  21 Oct 2013    78        14   \n",
       "2          26          NaN         NaN  21 Oct 2013   441        15   \n",
       "3          22          NaN         NaN  21 Oct 2013   142        13   \n",
       "4          24          NaN         NaN  21 Oct 2013   371       194   \n",
       "\n",
       "   Web_of_Science  \n",
       "0               0  \n",
       "1               0  \n",
       "2               0  \n",
       "3               0  \n",
       "4               0  "
      ]
     },
     "execution_count": 3,
     "metadata": {},
     "output_type": "execute_result"
    }
   ],
   "source": [
    "# info_article.columns.values\n",
    "# 'number_volume', 'number_issue', 'number_article', 'type_1',\n",
    "# 'type_2', 'page_start', 'page_end', 'date_receive', 'date_accept',\n",
    "# 'date_online', 'keyword', 'name_book', 'author_number',\n",
    "# 'author_info', 'views', 'Crossref', 'Web_of_Science',\n",
    "# 'page_number'\n",
    "\n",
    "info_article = info_article[['number_volume', 'number_issue', 'number_article', \n",
    "                             'type_1', 'type_2', 'name_book', 'keyword',\n",
    "                             'author_number', 'author_info',\n",
    "                             'page_start', 'page_end', 'page_number',\n",
    "                             'date_receive', 'date_accept','date_online',\n",
    "                              'views', 'Crossref', 'Web_of_Science']]\n",
    "\n",
    "info_issue.to_csv(path+'\\\\info\\\\info_issue_o_1.csv',index=False,sep=',')\n",
    "info_article.to_csv(path+'\\\\info\\\\info_article_o_1.csv',index=False,sep=',')\n",
    "info_article.head()"
   ]
  },
  {
   "cell_type": "code",
   "execution_count": 11,
   "metadata": {},
   "outputs": [
    {
     "data": {
      "text/plain": [
       "number_volume  number_issue\n",
       "1              1                                                  19335981105117\n",
       "               2                                           133139169197241269289\n",
       "               3                                              319353391419457497\n",
       "2              1                                                      1529516591\n",
       "               2                                                 113139167195217\n",
       "                                                     ...                        \n",
       "22             4                                              411433456480503525\n",
       "               5                                              529555581610636659\n",
       "23             1               1233476068829511112214115317218419921522824626...\n",
       "               2                                              193195232255285308\n",
       "               S1              1233476068829511112214115317218419921522824626...\n",
       "Name: page_start, Length: 104, dtype: object"
      ]
     },
     "execution_count": 11,
     "metadata": {},
     "output_type": "execute_result"
    }
   ],
   "source": [
    "# part 1.2: pages(issues)\n",
    "\n",
    "info_article = pd.read_csv(path+'\\\\info\\\\info_article_o_1.csv')\n",
    "info_issue = pd.read_csv(path+'\\\\info\\\\info_issue_o_1.csv')\n",
    "\n",
    "# print(info_article)\n",
    "# info_issue\n",
    "\n",
    "for i_article in range(info_article.shape[0]):\n"
   ]
  },
  {
   "cell_type": "code",
   "execution_count": null,
   "metadata": {},
   "outputs": [],
   "source": [
    "def missing_int_page(value):\n",
    "    try:\n",
    "        value = int(value)\n",
    "    except:\n",
    "        # print(value)\n",
    "        value = 0\n",
    "    \n",
    "    return value\n",
    "\n",
    "info_article['page_start'] = info_article['page_start'].apply(missing_int_page)\n",
    "info_article['page_end'] = info_article['page_end'].apply(missing_int_page)\n",
    "\n",
    "# number of pages, articles\n",
    "info_article['page_number'] = info_article['page_end'] - info_article['page_start']"
   ]
  },
  {
   "cell_type": "code",
   "execution_count": 42,
   "metadata": {},
   "outputs": [
    {
     "data": {
      "text/plain": [
       "number_volume              14\n",
       "number_issue                2\n",
       "number_article              1\n",
       "type               correction\n",
       "page_start                  0\n",
       "page_end                  nan\n",
       "date_receive              NaN\n",
       "date_accept               NaN\n",
       "date_online       11 Sep 2012\n",
       "keyword                    []\n",
       "name_book         Corrigendum\n",
       "author_number               0\n",
       "author_info                []\n",
       "views                     257\n",
       "Crossref                    0\n",
       "Web_of_Science              0\n",
       "Name: 383, dtype: object"
      ]
     },
     "execution_count": 42,
     "metadata": {},
     "output_type": "execute_result"
    }
   ],
   "source": [
    "# info_article.tail()\n",
    "info_article.iloc[383]"
   ]
  },
  {
   "cell_type": "code",
   "execution_count": 87,
   "metadata": {},
   "outputs": [
    {
     "data": {
      "text/plain": [
       "year\n",
       "1999    3\n",
       "2000    4\n",
       "2001    4\n",
       "2002    4\n",
       "2003    4\n",
       "2004    4\n",
       "2005    4\n",
       "2006    4\n",
       "2007    5\n",
       "2008    5\n",
       "2009    5\n",
       "2010    5\n",
       "2011    5\n",
       "2012    5\n",
       "2013    5\n",
       "2014    5\n",
       "2015    5\n",
       "2016    5\n",
       "2017    5\n",
       "2018    5\n",
       "2019    5\n",
       "2020    5\n",
       "2021    2\n",
       "Name: number_issue, dtype: int64"
      ]
     },
     "execution_count": 87,
     "metadata": {},
     "output_type": "execute_result"
    }
   ],
   "source": [
    "# number\n",
    "info_issue.groupby(\"year\")['number_issue'].count()"
   ]
  },
  {
   "cell_type": "code",
   "execution_count": 65,
   "metadata": {},
   "outputs": [
    {
     "data": {
      "text/html": [
       "<div>\n",
       "<style scoped>\n",
       "    .dataframe tbody tr th:only-of-type {\n",
       "        vertical-align: middle;\n",
       "    }\n",
       "\n",
       "    .dataframe tbody tr th {\n",
       "        vertical-align: top;\n",
       "    }\n",
       "\n",
       "    .dataframe thead th {\n",
       "        text-align: right;\n",
       "    }\n",
       "</style>\n",
       "<table border=\"1\" class=\"dataframe\">\n",
       "  <thead>\n",
       "    <tr style=\"text-align: right;\">\n",
       "      <th></th>\n",
       "      <th>number_volume</th>\n",
       "      <th>number_issue</th>\n",
       "      <th>year</th>\n",
       "      <th>page_start</th>\n",
       "      <th>page_end</th>\n",
       "      <th>theme</th>\n",
       "      <th>special_issue</th>\n",
       "    </tr>\n",
       "  </thead>\n",
       "  <tbody>\n",
       "    <tr>\n",
       "      <th>93</th>\n",
       "      <td>21</td>\n",
       "      <td>3</td>\n",
       "      <td>2019</td>\n",
       "      <td>327</td>\n",
       "      <td>443</td>\n",
       "      <td>NaN</td>\n",
       "      <td>0</td>\n",
       "    </tr>\n",
       "    <tr>\n",
       "      <th>94</th>\n",
       "      <td>21</td>\n",
       "      <td>4</td>\n",
       "      <td>2019</td>\n",
       "      <td>445</td>\n",
       "      <td>626</td>\n",
       "      <td>The Far Right as Social Movement</td>\n",
       "      <td>1</td>\n",
       "    </tr>\n",
       "    <tr>\n",
       "      <th>95</th>\n",
       "      <td>21</td>\n",
       "      <td>5</td>\n",
       "      <td>2019</td>\n",
       "      <td>629</td>\n",
       "      <td>801</td>\n",
       "      <td>Crises and Solidarities in Europe</td>\n",
       "      <td>1</td>\n",
       "    </tr>\n",
       "    <tr>\n",
       "      <th>96</th>\n",
       "      <td>22</td>\n",
       "      <td>1</td>\n",
       "      <td>2020</td>\n",
       "      <td>1</td>\n",
       "      <td>156</td>\n",
       "      <td>NaN</td>\n",
       "      <td>0</td>\n",
       "    </tr>\n",
       "  </tbody>\n",
       "</table>\n",
       "</div>"
      ],
      "text/plain": [
       "    number_volume  number_issue  year page_start page_end  \\\n",
       "93             21             3  2019        327      443   \n",
       "94             21             4  2019        445      626   \n",
       "95             21             5  2019        629      801   \n",
       "96             22             1  2020          1      156   \n",
       "\n",
       "                                theme  special_issue  \n",
       "93                                NaN              0  \n",
       "94   The Far Right as Social Movement              1  \n",
       "95  Crises and Solidarities in Europe              1  \n",
       "96                                NaN              0  "
      ]
     },
     "execution_count": 65,
     "metadata": {},
     "output_type": "execute_result"
    }
   ],
   "source": [
    "# part 2: special issue\n",
    "\n",
    "def identify_special_issue(value):\n",
    "    try:\n",
    "        value = np.isnan(value)\n",
    "    except:\n",
    "        value = False\n",
    "        \n",
    "    return 1 - value\n",
    "# identify_special_issue(info_issue.iloc[0,5])\n",
    "\n",
    "info_issue['special_issue'] = info_issue['theme'].apply(lambda x: identify_special_issue(x))\n",
    "\n",
    "info_issue.to_csv(path+'\\\\info\\\\info_issue_o_1.csv',index=False,sep=',')\n",
    "\n",
    "info_issue.iloc[93:97] # example"
   ]
  },
  {
   "cell_type": "code",
   "execution_count": 85,
   "metadata": {},
   "outputs": [],
   "source": []
  },
  {
   "cell_type": "code",
   "execution_count": 72,
   "metadata": {},
   "outputs": [],
   "source": [
    "# process - type\n",
    "info_article['type'] = info_article['type'].apply(lambda x:str(x).lower())\n",
    "\n",
    "\n",
    "info_article['name_book'] = info_article['name_book'].apply(lambda x:str(x).lower())\n",
    "info_article['name_book'] = info_article['name_book'].apply(lambda x:str(x).replace('<br/>',''))\n",
    "info_article['name_book'] = info_article['name_book'].apply(lambda x:str(x).replace('<i>',''))\n",
    "info_article['name_book'] = info_article['name_book'].apply(lambda x:str(x).replace('</i>',''))\n",
    "info_article['name_book'] = info_article['name_book'].apply(lambda x:str(x).lstrip())\n",
    "\n",
    "info_article['type_help'] = info_article['name_book'].apply(lambda x:' '.join(x.split(' ')[:2]))\n",
    "re.match(\"article review\",\"article reviews\") .group()"
   ]
  },
  {
   "cell_type": "code",
   "execution_count": 95,
   "metadata": {},
   "outputs": [
    {
     "data": {
      "text/plain": [
       "'male'"
      ]
     },
     "execution_count": 95,
     "metadata": {},
     "output_type": "execute_result"
    }
   ],
   "source": [
    "# gender\n",
    "detector_1 = gender.Detector()\n",
    "detector_2 = "
   ]
  },
  {
   "cell_type": "code",
   "execution_count": 53,
   "metadata": {},
   "outputs": [
    {
     "data": {
      "text/plain": [
       "31"
      ]
     },
     "execution_count": 53,
     "metadata": {},
     "output_type": "execute_result"
    }
   ],
   "source": [
    "# my_str=\"135A\"\n",
    "# my_str.lstrip('S')\n",
    "# int(\"\")\n",
    "# np.isnan(np.nan)\n",
    "# print(np.nan)\n",
    "int(\"43\")-int(\"12\")"
   ]
  },
  {
   "cell_type": "code",
   "execution_count": 15,
   "metadata": {},
   "outputs": [
    {
     "data": {
      "text/plain": [
       "False"
      ]
     },
     "execution_count": 15,
     "metadata": {},
     "output_type": "execute_result"
    }
   ],
   "source": []
  },
  {
   "cell_type": "code",
   "execution_count": null,
   "metadata": {},
   "outputs": [],
   "source": []
  }
 ],
 "metadata": {
  "kernelspec": {
   "display_name": "Python 3",
   "language": "python",
   "name": "python3"
  },
  "language_info": {
   "codemirror_mode": {
    "name": "ipython",
    "version": 3
   },
   "file_extension": ".py",
   "mimetype": "text/x-python",
   "name": "python",
   "nbconvert_exporter": "python",
   "pygments_lexer": "ipython3",
   "version": "3.8.2"
  }
 },
 "nbformat": 4,
 "nbformat_minor": 4
}
